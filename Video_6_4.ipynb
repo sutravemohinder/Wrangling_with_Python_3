{
 "cells": [
  {
   "cell_type": "markdown",
   "metadata": {},
   "source": [
    "# Text Generation\n",
    "\n",
    "Source: https://github.com/spro/practical-pytorch"
   ]
  },
  {
   "cell_type": "code",
   "execution_count": 84,
   "metadata": {},
   "outputs": [],
   "source": [
    "import unidecode\n",
    "import string\n",
    "import random\n",
    "import re\n",
    "\n",
    "import torch\n",
    "import torch.nn as nn\n",
    "from torch.autograd import Variable\n",
    "\n",
    "import matplotlib.pyplot as plt\n",
    "import matplotlib.ticker as ticker\n",
    "%matplotlib inline"
   ]
  },
  {
   "cell_type": "markdown",
   "metadata": {},
   "source": [
    "### Prepare data"
   ]
  },
  {
   "cell_type": "code",
   "execution_count": 7,
   "metadata": {},
   "outputs": [],
   "source": [
    "INPUT_FILE_PATH = 'shakespeare.txt'\n",
    "\n",
    "file = unidecode.unidecode(open(INPUT_FILE_PATH).read())"
   ]
  },
  {
   "cell_type": "markdown",
   "metadata": {},
   "source": [
    "To make inputs out of this big string of data, we will be splitting it into chunks."
   ]
  },
  {
   "cell_type": "code",
   "execution_count": 85,
   "metadata": {},
   "outputs": [
    {
     "data": {
      "text/plain": [
       "'0123456789abcdefghijklmnopqrstuvwxyzABCDEFGHIJKLMNOPQRSTUVWXYZ!\"#$%&\\'()*+,-./:;<=>?@[\\\\]^_`{|}~ \\t\\n\\r\\x0b\\x0c'"
      ]
     },
     "execution_count": 85,
     "metadata": {},
     "output_type": "execute_result"
    }
   ],
   "source": [
    "chars = string.printable\n",
    "chars"
   ]
  },
  {
   "cell_type": "code",
   "execution_count": 12,
   "metadata": {},
   "outputs": [
    {
     "name": "stdout",
     "output_type": "stream",
     "text": [
      "s, Ill give it to your daughter.\n",
      "If I have kill'd the issue of your womb,\n",
      "To quicken your increase, I will beget\n",
      "Mine issue of your blood upon your daughter\n",
      "A grandam's name is little less in love\n",
      "Than\n"
     ]
    }
   ],
   "source": [
    "chunk_len = 200\n",
    "\n",
    "def random_chunk():\n",
    "    start_index = random.randint(0, len(file) - chunk_len)\n",
    "    end_index = start_index + chunk_len + 1\n",
    "    return file[start_index:end_index]\n",
    "\n",
    "print(random_chunk())"
   ]
  },
  {
   "cell_type": "code",
   "execution_count": 77,
   "metadata": {},
   "outputs": [
    {
     "name": "stdout",
     "output_type": "stream",
     "text": [
      "tensor([10, 11, 12, 39, 40, 41])\n"
     ]
    }
   ],
   "source": [
    "chars = string.printable\n",
    "\n",
    "def char2tensor(string):\n",
    "    tensor = torch.zeros(len(string)).long()\n",
    "    for c in range(len(string)):\n",
    "        tensor[c] = chars.index(string[c])\n",
    "    return Variable(tensor)\n",
    "\n",
    "print(char_tensor('abcDEF'))"
   ]
  },
  {
   "cell_type": "markdown",
   "metadata": {},
   "source": [
    "### Build the Model"
   ]
  },
  {
   "cell_type": "code",
   "execution_count": 26,
   "metadata": {},
   "outputs": [],
   "source": [
    "class RNN(nn.Module):\n",
    "    def __init__(self, input_size, hidden_size, output_size, n_layers=1):\n",
    "        super(RNN, self).__init__()\n",
    "        self.input_size = input_size\n",
    "        self.hidden_size = hidden_size\n",
    "        self.output_size = output_size\n",
    "        self.n_layers = n_layers\n",
    "        \n",
    "        self.encoder = nn.Embedding(input_size, hidden_size)\n",
    "        self.gru = nn.GRU(hidden_size, hidden_size, n_layers)\n",
    "        self.decoder = nn.Linear(hidden_size, output_size)\n",
    "    \n",
    "    def forward(self, input, hidden):\n",
    "        input = self.encoder(input.view(1, -1))\n",
    "        output, hidden = self.gru(input.view(1,1,-1), hidden)\n",
    "        output = self.decoder(output.view(1, -1))\n",
    "        return output, hidden\n",
    "\n",
    "    def init_hidden(self):\n",
    "        return Variable(torch.zeros(self.n_layers, 1, self.hidden_size))"
   ]
  },
  {
   "cell_type": "markdown",
   "metadata": {},
   "source": [
    "### Evaluating"
   ]
  },
  {
   "cell_type": "code",
   "execution_count": 31,
   "metadata": {},
   "outputs": [],
   "source": [
    "def evaluate(prime_str='A', predict_len=100, temperature=0.8):\n",
    "    hidden = decoder.init_hidden()\n",
    "    prime_input = char2tensor(prime_str)\n",
    "    predicted = prime_str\n",
    "\n",
    "    # Use priming string to \"build up\" hidden state\n",
    "    for p in range(len(prime_str) - 1):\n",
    "        _, hidden = decoder(prime_input[p], hidden)\n",
    "    inp = prime_input[-1]\n",
    "    \n",
    "    for p in range(predict_len):\n",
    "        output, hidden = decoder(inp, hidden)\n",
    "        \n",
    "        # Sample from the network as a multinomial distribution\n",
    "        output_dist = output.data.view(-1).div(temperature).exp()\n",
    "        top_i = torch.multinomial(output_dist, 1)[0]\n",
    "        \n",
    "        # Add predicted character to string and use as next input\n",
    "        predicted_char = chars[top_i]\n",
    "        predicted += predicted_char\n",
    "        inp = char2tensor(predicted_char)\n",
    "\n",
    "    return predicted"
   ]
  },
  {
   "cell_type": "markdown",
   "metadata": {},
   "source": [
    "### Training"
   ]
  },
  {
   "cell_type": "code",
   "execution_count": 69,
   "metadata": {},
   "outputs": [],
   "source": [
    "def train(inp, target):\n",
    "    hidden = decoder.init_hidden()\n",
    "    decoder.zero_grad()\n",
    "    loss = 0\n",
    "\n",
    "    for c in range(chunk_len):\n",
    "        output, hidden = decoder(inp[c], hidden)\n",
    "        loss += criterion(output, target[c].unsqueeze(0))\n",
    "\n",
    "    loss.backward()\n",
    "    decoder_optimizer.step()\n",
    "\n",
    "    return loss.data[0] / chunk_len"
   ]
  },
  {
   "cell_type": "code",
   "execution_count": 79,
   "metadata": {
    "scrolled": true
   },
   "outputs": [
    {
     "name": "stderr",
     "output_type": "stream",
     "text": [
      "/Users/yanina-n/miniconda3/envs/Clear_python3/lib/python3.6/site-packages/ipykernel_launcher.py:13: UserWarning: invalid index of a 0-dim tensor. This will be an error in PyTorch 0.5. Use tensor.item() to convert a 0-dim tensor to a Python number\n",
      "  del sys.path[0]\n"
     ]
    },
    {
     "name": "stdout",
     "output_type": "stream",
     "text": [
      "Loss: 2.1979\n",
      "Thash erirerce my as wien, leron som ene yow sisill sou to gie beer:\n",
      "Thur beas pord he thinl nol my my \n",
      "\n",
      "Loss: 1.9495\n",
      "Thim houl thin the bont and mor beret at serimy the pather sipes and nor not he aseast\n",
      "And and of and  \n",
      "\n",
      "Loss: 1.8499\n",
      "That it what here shere:\n",
      "I it stacises, Fomplorse,\n",
      "And 'end swee me dard's sher merse, have arser the  \n",
      "\n",
      "Loss: 2.1132\n",
      "Then core?\n",
      "\n",
      "That yhe my there, when wour wawes our our dof\n",
      "And boond houtin;\n",
      "Go no what lenting wer hi \n",
      "\n",
      "Loss: 1.8871\n",
      "Thifn, of tauge thou eent?\n",
      "\n",
      "Thast and thought me afmadde the aghere\n",
      "That well my, I now sorad, your of \n",
      "\n",
      "Loss: 1.9708\n",
      "That than all beteacers may is moungs\n",
      "'ely one this cith all badess our\n",
      "juspeatting maist hotmenterdes \n",
      "\n",
      "Loss: 1.8534\n",
      "These bied. Come.\n",
      "\n",
      "BAPREL:\n",
      "Where will be and when the and camon that whore,\n",
      "Al the by thous wounds wat \n",
      "\n",
      "Loss: 1.9802\n",
      "That wenwar to norse fromet the is brids,\n",
      "A halpow\n",
      "And the not for brady it foul I fied gater a dirch  \n",
      "\n",
      "Loss: 2.0167\n",
      "Ther, I soo frortuntrer: I was the my conson crave,\n",
      "And you.\n",
      "\n",
      "Hitherse.\n",
      "\n",
      "Ke ent?\n",
      "\n",
      "GLASENTIO:\n",
      "And that  \n",
      "\n",
      "Loss: 2.1019\n",
      "This may thine hem-day now and opninegs\n",
      "\n",
      "Shesin a mind of him\n",
      "And ones of canis say mes one happry tom \n",
      "\n",
      "Loss: 1.7103\n",
      "Thy weath her have and of her cal tents butter,\n",
      "Hen a that we wheling to to 'will of her ball ope for  \n",
      "\n",
      "Loss: 2.1240\n",
      "That I day like the plet my sweaster,\n",
      "A leable roness it my ad a sone now purscall to mother, but abti \n",
      "\n",
      "Loss: 1.8897\n",
      "Thou nots with for so in what arace's a not sould monst shall his your to freed the bedon.\n",
      "Stain the i \n",
      "\n",
      "Loss: 1.6880\n",
      "That to mean:\n",
      "If her, take lory began the kance say? whath shall amrild.\n",
      "\n",
      "GLOUCESTES:\n",
      "If this the no s \n",
      "\n",
      "Loss: 1.8905\n",
      "That he pife my granch\n",
      "The secting be do mesend greong, sair you coft.\n",
      "\n",
      "KING EWARI:\n",
      "My lovound the kne \n",
      "\n",
      "Loss: 1.6106\n",
      "This sheath sweary unsputerings,\n",
      "And lead mad, to store deesisure and my and hand.\n",
      "\n",
      "CORIOLANUS:\n",
      "Be bre \n",
      "\n",
      "Loss: 1.7922\n",
      "Ther and thou marceet it suithans lord humpnation?\n",
      "\n",
      "GLOUCESTER:\n",
      "But of go have intish\n",
      "Untlixt supple I \n",
      "\n",
      "Loss: 1.3631\n",
      "That provely heave's son,\n",
      "I she but thee my nother's than count;\n",
      "How him is heavent sucer beather sige \n",
      "\n",
      "Loss: 1.8896\n",
      "Ther I dand.\n",
      "\n",
      "LUCIO:\n",
      "Now for it thee a kill shall firtue the am lest thy heaven!\n",
      "\n",
      "JULIET:\n",
      "This the mar \n",
      "\n",
      "Loss: 1.7087\n",
      "There are the some\n",
      "With the grieght to sings the his priubuse theres not Aate serving;\n",
      "What our to blo \n",
      "\n"
     ]
    }
   ],
   "source": [
    "n_characters = 100\n",
    "n_epochs = 2000\n",
    "hidden_size = 100\n",
    "n_layers = 1\n",
    "lr = 0.005\n",
    "\n",
    "decoder = RNN(len(chars), hidden_size, len(chars), n_layers)\n",
    "decoder_optimizer = torch.optim.Adam(decoder.parameters(), lr=lr)\n",
    "criterion = nn.CrossEntropyLoss()\n",
    "\n",
    "start = time.time()\n",
    "all_losses = []\n",
    "loss_avg = 0\n",
    "\n",
    "for epoch in range(1, n_epochs + 1):\n",
    "    chunk = random_chunk()\n",
    "    inp, target = char2tensor(chunk[:-1]), char2tensor(chunk[1:])\n",
    "    loss = train(inp, target)       \n",
    "    loss_avg += loss\n",
    "\n",
    "    if epoch % 100 == 0:\n",
    "        print('Loss: %.4f' % loss)\n",
    "        print(evaluate('Th', 100), '\\n')\n",
    "        all_losses.append(loss_avg / plot_every)\n",
    "        loss_avg = 0"
   ]
  },
  {
   "cell_type": "code",
   "execution_count": 86,
   "metadata": {},
   "outputs": [
    {
     "data": {
      "text/plain": [
       "[<matplotlib.lines.Line2D at 0x113900dd8>]"
      ]
     },
     "execution_count": 86,
     "metadata": {},
     "output_type": "execute_result"
    },
    {
     "data": {
      "image/png": "[encoded data removed]",
      "text/plain": [
       "<Figure size 432x288 with 1 Axes>"
      ]
     },
     "metadata": {},
     "output_type": "display_data"
    }
   ],
   "source": [
    "plt.plot(all_losses)"
   ]
  },
  {
   "cell_type": "code",
   "execution_count": 87,
   "metadata": {},
   "outputs": [
    {
     "name": "stdout",
     "output_type": "stream",
     "text": [
      "Whatter bet to her these engerolk.\n",
      "\n",
      "KING HENRY VI:\n",
      "Now pestival be to heart that too resay no dearth\n",
      "By bidds I are at as so,\n",
      "By was of and then no speak both Reirak on.\n",
      "\n",
      "QUEEN LFOY:\n",
      "God as weer that I \n"
     ]
    }
   ],
   "source": [
    "print(evaluate('Wh', 200, temperature=0.8))"
   ]
  },
  {
   "cell_type": "code",
   "execution_count": 89,
   "metadata": {},
   "outputs": [
    {
     "name": "stdout",
     "output_type": "stream",
     "text": [
      "What the prespare the breat to the priends the priend the better the contake the be to my both the priend the presion the breather\n",
      "The so the conto me the be the priends the better to the breather the b\n"
     ]
    }
   ],
   "source": [
    "print(evaluate('Wh', 200, temperature=0.2))"
   ]
  },
  {
   "cell_type": "code",
   "execution_count": 90,
   "metadata": {},
   "outputs": [
    {
     "name": "stdout",
     "output_type": "stream",
     "text": [
      "What soed priodred;\n",
      "WhiWpo'd aly the froyal alposess Ha wife,s\n",
      "As prelty; haverk riffavinive Ribuse judgin,\n",
      "their, both, ye she blove.\n",
      "Fetrches but; ety Phine thee loth?\n",
      "\n",
      "QUEEN MAM:\n",
      "Rovever, evine covea\n"
     ]
    }
   ],
   "source": [
    "print(evaluate('Wh', 200, temperature=1.4))"
   ]
  },
  {
   "cell_type": "code",
   "execution_count": null,
   "metadata": {},
   "outputs": [],
   "source": []
  }
 ],
 "metadata": {
  "anaconda-cloud": {},
  "kernelspec": {
   "display_name": "Python3 with xgboost",
   "language": "python",
   "name": "py3_with_xgboost"
  },
  "language_info": {
   "codemirror_mode": {
    "name": "ipython",
    "version": 3
   },
   "file_extension": ".py",
   "mimetype": "text/x-python",
   "name": "python",
   "nbconvert_exporter": "python",
   "pygments_lexer": "ipython3",
   "version": "3.6.2"
  }
 },
 "nbformat": 4,
 "nbformat_minor": 1
}
