{
 "cells": [
  {
   "cell_type": "markdown",
   "metadata": {},
   "source": [
    "# Linear autoencoder"
   ]
  },
  {
   "cell_type": "code",
   "execution_count": 14,
   "metadata": {},
   "outputs": [],
   "source": [
    "from __future__ import print_function\n",
    "import argparse\n",
    "import torch\n",
    "import torch.nn as nn\n",
    "import torch.nn.functional as F\n",
    "import torch.optim as optim\n",
    "from torchvision import datasets, transforms\n",
    "\n",
    "import numpy as np\n",
    "import matplotlib.pyplot as plt\n",
    "%matplotlib inline"
   ]
  },
  {
   "cell_type": "code",
   "execution_count": 2,
   "metadata": {},
   "outputs": [],
   "source": [
    "# Data loading\n",
    "batch_size = 64\n",
    "\n",
    "train_loader = torch.utils.data.DataLoader(\n",
    "    datasets.MNIST('../data', train=True, download=True,\n",
    "                   transform=transforms.Compose([\n",
    "                       transforms.ToTensor(),\n",
    "                       transforms.Normalize((0.1307,), (0.3081,))\n",
    "                   ])),\n",
    "    batch_size=batch_size,\n",
    "    shuffle=True\n",
    ")\n",
    "\n",
    "test_loader = torch.utils.data.DataLoader(\n",
    "    datasets.MNIST('../data', train=False, transform=transforms.Compose([\n",
    "                       transforms.ToTensor(),\n",
    "                       transforms.Normalize((0.1307,), (0.3081,))\n",
    "                   ])),\n",
    "    batch_size=batch_size,\n",
    "    shuffle=True\n",
    ")\n",
    "\n"
   ]
  },
  {
   "cell_type": "code",
   "execution_count": 3,
   "metadata": {},
   "outputs": [],
   "source": [
    "import torch.nn as nn\n",
    "import torch.nn.functional as F\n",
    "\n",
    "\n",
    "class Autoencoder(nn.Module):\n",
    "    def __init__(self, encoding_dim):\n",
    "        super(Autoencoder, self).__init__()\n",
    "        self.fc1 = nn.Linear(28*28, encoding_dim)\n",
    "        self.fc2 = nn.Linear(encoding_dim, 28*28)\n",
    "        \n",
    "\n",
    "    def forward(self, x):\n",
    "        x = F.relu(self.fc1(x))\n",
    "        x = torch.sigmoid(self.fc2(x))\n",
    "        return x\n",
    "\n",
    "model = Autoencoder(32)"
   ]
  },
  {
   "cell_type": "code",
   "execution_count": 4,
   "metadata": {},
   "outputs": [
    {
     "data": {
      "text/plain": [
       "Autoencoder(\n",
       "  (fc1): Linear(in_features=784, out_features=32, bias=True)\n",
       "  (fc2): Linear(in_features=32, out_features=784, bias=True)\n",
       ")"
      ]
     },
     "execution_count": 4,
     "metadata": {},
     "output_type": "execute_result"
    }
   ],
   "source": [
    "model"
   ]
  },
  {
   "cell_type": "code",
   "execution_count": 5,
   "metadata": {},
   "outputs": [],
   "source": [
    "lr = 0.001\n",
    "epochs = 10\n",
    "criterion = nn.MSELoss()\n",
    "optimizer = torch.optim.Adam(model.parameters(), lr=lr)"
   ]
  },
  {
   "cell_type": "code",
   "execution_count": 6,
   "metadata": {
    "scrolled": true
   },
   "outputs": [
    {
     "name": "stdout",
     "output_type": "stream",
     "text": [
      "Train Epoch: 1 [0/60000 (0%)]\tItem Loss: 1.278752, Train Loss: 81.840157\n",
      "Train Epoch: 1 [6400/60000 (11%)]\tItem Loss: 0.759653, Train Loss: 5578.821987\n",
      "Train Epoch: 1 [12800/60000 (21%)]\tItem Loss: 0.658490, Train Loss: 10026.326561\n",
      "Train Epoch: 1 [19200/60000 (32%)]\tItem Loss: 0.607910, Train Loss: 14175.130207\n",
      "Train Epoch: 1 [25600/60000 (43%)]\tItem Loss: 0.600441, Train Loss: 18144.080215\n",
      "Train Epoch: 1 [32000/60000 (53%)]\tItem Loss: 0.594678, Train Loss: 21992.800495\n",
      "Train Epoch: 1 [38400/60000 (64%)]\tItem Loss: 0.561173, Train Loss: 25776.134773\n",
      "Train Epoch: 1 [44800/60000 (75%)]\tItem Loss: 0.564663, Train Loss: 29486.388577\n",
      "Train Epoch: 1 [51200/60000 (85%)]\tItem Loss: 0.560818, Train Loss: 33172.950706\n",
      "Train Epoch: 1 [57600/60000 (96%)]\tItem Loss: 0.565808, Train Loss: 36837.129341\n",
      "\n",
      "Train set: Overall train loss: 40.6807\n",
      "\n",
      "Train Epoch: 2 [0/60000 (0%)]\tItem Loss: 0.553203, Train Loss: 35.405014\n",
      "Train Epoch: 2 [6400/60000 (11%)]\tItem Loss: 0.595528, Train Loss: 3643.178856\n",
      "Train Epoch: 2 [12800/60000 (21%)]\tItem Loss: 0.574054, Train Loss: 7246.946907\n",
      "Train Epoch: 2 [19200/60000 (32%)]\tItem Loss: 0.568537, Train Loss: 10826.395626\n",
      "Train Epoch: 2 [25600/60000 (43%)]\tItem Loss: 0.568102, Train Loss: 14395.204697\n",
      "Train Epoch: 2 [32000/60000 (53%)]\tItem Loss: 0.560252, Train Loss: 17944.475410\n",
      "Train Epoch: 2 [38400/60000 (64%)]\tItem Loss: 0.570191, Train Loss: 21457.958305\n",
      "Train Epoch: 2 [44800/60000 (75%)]\tItem Loss: 0.554125, Train Loss: 24973.833900\n",
      "Train Epoch: 2 [51200/60000 (85%)]\tItem Loss: 0.551810, Train Loss: 28481.769136\n",
      "Train Epoch: 2 [57600/60000 (96%)]\tItem Loss: 0.527766, Train Loss: 31967.995863\n",
      "\n",
      "Train set: Overall train loss: 35.4443\n",
      "\n",
      "Train Epoch: 3 [0/60000 (0%)]\tItem Loss: 0.544117, Train Loss: 34.823467\n",
      "Train Epoch: 3 [6400/60000 (11%)]\tItem Loss: 0.552251, Train Loss: 3530.515444\n",
      "Train Epoch: 3 [12800/60000 (21%)]\tItem Loss: 0.545968, Train Loss: 7025.618078\n",
      "Train Epoch: 3 [19200/60000 (32%)]\tItem Loss: 0.551453, Train Loss: 10513.932875\n",
      "Train Epoch: 3 [25600/60000 (43%)]\tItem Loss: 0.557579, Train Loss: 13976.233660\n",
      "Train Epoch: 3 [32000/60000 (53%)]\tItem Loss: 0.508670, Train Loss: 17438.707771\n",
      "Train Epoch: 3 [38400/60000 (64%)]\tItem Loss: 0.535557, Train Loss: 20896.649914\n",
      "Train Epoch: 3 [44800/60000 (75%)]\tItem Loss: 0.557745, Train Loss: 24358.054829\n",
      "Train Epoch: 3 [51200/60000 (85%)]\tItem Loss: 0.526859, Train Loss: 27820.733850\n",
      "Train Epoch: 3 [57600/60000 (96%)]\tItem Loss: 0.545671, Train Loss: 31301.602659\n",
      "\n",
      "Train set: Overall train loss: 34.7143\n",
      "\n",
      "Train Epoch: 4 [0/60000 (0%)]\tItem Loss: 0.537528, Train Loss: 34.401806\n",
      "Train Epoch: 4 [6400/60000 (11%)]\tItem Loss: 0.531683, Train Loss: 3510.158875\n",
      "Train Epoch: 4 [12800/60000 (21%)]\tItem Loss: 0.545747, Train Loss: 6962.482239\n",
      "Train Epoch: 4 [19200/60000 (32%)]\tItem Loss: 0.531513, Train Loss: 10427.425308\n",
      "Train Epoch: 4 [25600/60000 (43%)]\tItem Loss: 0.530585, Train Loss: 13879.284863\n",
      "Train Epoch: 4 [32000/60000 (53%)]\tItem Loss: 0.533208, Train Loss: 17322.887314\n",
      "Train Epoch: 4 [38400/60000 (64%)]\tItem Loss: 0.521143, Train Loss: 20765.399036\n",
      "Train Epoch: 4 [44800/60000 (75%)]\tItem Loss: 0.551967, Train Loss: 24212.115942\n",
      "Train Epoch: 4 [51200/60000 (85%)]\tItem Loss: 0.523605, Train Loss: 27644.333799\n",
      "Train Epoch: 4 [57600/60000 (96%)]\tItem Loss: 0.506411, Train Loss: 31093.190004\n",
      "\n",
      "Train set: Overall train loss: 34.4841\n",
      "\n",
      "Train Epoch: 5 [0/60000 (0%)]\tItem Loss: 0.550350, Train Loss: 35.222374\n",
      "Train Epoch: 5 [6400/60000 (11%)]\tItem Loss: 0.520671, Train Loss: 3502.396618\n",
      "Train Epoch: 5 [12800/60000 (21%)]\tItem Loss: 0.530406, Train Loss: 6948.441597\n",
      "Train Epoch: 5 [19200/60000 (32%)]\tItem Loss: 0.509555, Train Loss: 10371.065210\n",
      "Train Epoch: 5 [25600/60000 (43%)]\tItem Loss: 0.517393, Train Loss: 13808.852762\n",
      "Train Epoch: 5 [32000/60000 (53%)]\tItem Loss: 0.537171, Train Loss: 17232.995796\n",
      "Train Epoch: 5 [38400/60000 (64%)]\tItem Loss: 0.546278, Train Loss: 20659.585884\n",
      "Train Epoch: 5 [44800/60000 (75%)]\tItem Loss: 0.534139, Train Loss: 24076.908308\n",
      "Train Epoch: 5 [51200/60000 (85%)]\tItem Loss: 0.537944, Train Loss: 27511.189983\n",
      "Train Epoch: 5 [57600/60000 (96%)]\tItem Loss: 0.524450, Train Loss: 30923.858639\n",
      "\n",
      "Train set: Overall train loss: 34.2876\n",
      "\n",
      "Train Epoch: 6 [0/60000 (0%)]\tItem Loss: 0.558158, Train Loss: 35.722111\n",
      "Train Epoch: 6 [6400/60000 (11%)]\tItem Loss: 0.542519, Train Loss: 3442.307199\n",
      "Train Epoch: 6 [12800/60000 (21%)]\tItem Loss: 0.534477, Train Loss: 6868.266825\n",
      "Train Epoch: 6 [19200/60000 (32%)]\tItem Loss: 0.518581, Train Loss: 10313.216425\n",
      "Train Epoch: 6 [25600/60000 (43%)]\tItem Loss: 0.592990, Train Loss: 13719.087070\n",
      "Train Epoch: 6 [32000/60000 (53%)]\tItem Loss: 0.528047, Train Loss: 17139.368372\n",
      "Train Epoch: 6 [38400/60000 (64%)]\tItem Loss: 0.556350, Train Loss: 20580.376936\n",
      "Train Epoch: 6 [44800/60000 (75%)]\tItem Loss: 0.522360, Train Loss: 24003.236990\n",
      "Train Epoch: 6 [51200/60000 (85%)]\tItem Loss: 0.541156, Train Loss: 27404.833477\n",
      "Train Epoch: 6 [57600/60000 (96%)]\tItem Loss: 0.514494, Train Loss: 30818.540314\n",
      "\n",
      "Train set: Overall train loss: 34.1852\n",
      "\n",
      "Train Epoch: 7 [0/60000 (0%)]\tItem Loss: 0.532150, Train Loss: 34.057617\n",
      "Train Epoch: 7 [6400/60000 (11%)]\tItem Loss: 0.517148, Train Loss: 3446.561502\n",
      "Train Epoch: 7 [12800/60000 (21%)]\tItem Loss: 0.513387, Train Loss: 6840.362604\n",
      "Train Epoch: 7 [19200/60000 (32%)]\tItem Loss: 0.523098, Train Loss: 10269.099525\n",
      "Train Epoch: 7 [25600/60000 (43%)]\tItem Loss: 0.518652, Train Loss: 13670.579134\n",
      "Train Epoch: 7 [32000/60000 (53%)]\tItem Loss: 0.560957, Train Loss: 17090.016857\n",
      "Train Epoch: 7 [38400/60000 (64%)]\tItem Loss: 0.514989, Train Loss: 20510.138672\n",
      "Train Epoch: 7 [44800/60000 (75%)]\tItem Loss: 0.563808, Train Loss: 23931.962818\n",
      "Train Epoch: 7 [51200/60000 (85%)]\tItem Loss: 0.540882, Train Loss: 27343.182587\n",
      "Train Epoch: 7 [57600/60000 (96%)]\tItem Loss: 0.525127, Train Loss: 30774.557497\n",
      "\n",
      "Train set: Overall train loss: 34.1426\n",
      "\n",
      "Train Epoch: 8 [0/60000 (0%)]\tItem Loss: 0.533103, Train Loss: 34.118622\n",
      "Train Epoch: 8 [6400/60000 (11%)]\tItem Loss: 0.509660, Train Loss: 3446.259720\n",
      "Train Epoch: 8 [12800/60000 (21%)]\tItem Loss: 0.531481, Train Loss: 6851.930250\n",
      "Train Epoch: 8 [19200/60000 (32%)]\tItem Loss: 0.529364, Train Loss: 10272.104565\n",
      "Train Epoch: 8 [25600/60000 (43%)]\tItem Loss: 0.547158, Train Loss: 13683.243301\n",
      "Train Epoch: 8 [32000/60000 (53%)]\tItem Loss: 0.539116, Train Loss: 17083.572466\n",
      "Train Epoch: 8 [38400/60000 (64%)]\tItem Loss: 0.577762, Train Loss: 20509.957306\n",
      "Train Epoch: 8 [44800/60000 (75%)]\tItem Loss: 0.520674, Train Loss: 23933.119972\n",
      "Train Epoch: 8 [51200/60000 (85%)]\tItem Loss: 0.527588, Train Loss: 27347.472685\n",
      "Train Epoch: 8 [57600/60000 (96%)]\tItem Loss: 0.523463, Train Loss: 30749.863531\n",
      "\n",
      "Train set: Overall train loss: 34.1175\n",
      "\n",
      "Train Epoch: 9 [0/60000 (0%)]\tItem Loss: 0.540067, Train Loss: 34.564304\n",
      "Train Epoch: 9 [6400/60000 (11%)]\tItem Loss: 0.543913, Train Loss: 3435.269892\n",
      "Train Epoch: 9 [12800/60000 (21%)]\tItem Loss: 0.531071, Train Loss: 6851.325171\n",
      "Train Epoch: 9 [19200/60000 (32%)]\tItem Loss: 0.520803, Train Loss: 10267.334303\n",
      "Train Epoch: 9 [25600/60000 (43%)]\tItem Loss: 0.528735, Train Loss: 13670.695480\n",
      "Train Epoch: 9 [32000/60000 (53%)]\tItem Loss: 0.541646, Train Loss: 17107.657236\n",
      "Train Epoch: 9 [38400/60000 (64%)]\tItem Loss: 0.494603, Train Loss: 20499.535332\n",
      "Train Epoch: 9 [44800/60000 (75%)]\tItem Loss: 0.522170, Train Loss: 23900.179848\n",
      "Train Epoch: 9 [51200/60000 (85%)]\tItem Loss: 0.548905, Train Loss: 27332.915033\n",
      "Train Epoch: 9 [57600/60000 (96%)]\tItem Loss: 0.506949, Train Loss: 30736.604893\n",
      "\n",
      "Train set: Overall train loss: 34.0993\n",
      "\n",
      "Train Epoch: 10 [0/60000 (0%)]\tItem Loss: 0.548387, Train Loss: 35.096760\n",
      "Train Epoch: 10 [6400/60000 (11%)]\tItem Loss: 0.546088, Train Loss: 3452.925396\n",
      "Train Epoch: 10 [12800/60000 (21%)]\tItem Loss: 0.521847, Train Loss: 6855.504145\n",
      "Train Epoch: 10 [19200/60000 (32%)]\tItem Loss: 0.513627, Train Loss: 10273.692640\n",
      "Train Epoch: 10 [25600/60000 (43%)]\tItem Loss: 0.560263, Train Loss: 13698.485821\n",
      "Train Epoch: 10 [32000/60000 (53%)]\tItem Loss: 0.543831, Train Loss: 17082.111380\n",
      "Train Epoch: 10 [38400/60000 (64%)]\tItem Loss: 0.542589, Train Loss: 20497.453768\n",
      "Train Epoch: 10 [44800/60000 (75%)]\tItem Loss: 0.496460, Train Loss: 23903.302305\n"
     ]
    },
    {
     "name": "stdout",
     "output_type": "stream",
     "text": [
      "Train Epoch: 10 [51200/60000 (85%)]\tItem Loss: 0.525665, Train Loss: 27318.304804\n",
      "Train Epoch: 10 [57600/60000 (96%)]\tItem Loss: 0.558793, Train Loss: 30738.197338\n",
      "\n",
      "Train set: Overall train loss: 34.0870\n",
      "\n"
     ]
    }
   ],
   "source": [
    "for epoch in range(1, epochs+1):\n",
    "    # train loss for each epoch\n",
    "    train_loss = 0.0\n",
    "    \n",
    "    for batch_idx, (data, target) in enumerate(train_loader):\n",
    "        data = data.view(data.size(0), -1)\n",
    "        optimizer.zero_grad()\n",
    "        \n",
    "        outputs = model(data)\n",
    "        loss = criterion(outputs, data)\n",
    "        loss.backward()\n",
    "        optimizer.step()\n",
    "        train_loss += loss.item() * data.size(0)\n",
    "    \n",
    "        if batch_idx % 100 == 0:\n",
    "            print('Train Epoch: {} [{}/{} ({:.0f}%)]\\tItem Loss: {:.6f}, Train Loss: {:.6f}'.format(\n",
    "                epoch, batch_idx * len(data), len(train_loader.dataset),\n",
    "                100. * batch_idx / len(train_loader), loss.item(), train_loss))\n",
    "            \n",
    "    train_loss /= len(train_loader)\n",
    "    \n",
    "    print('\\nTrain set: Overall train loss: {:.4f}\\n'.format(train_loss))"
   ]
  },
  {
   "cell_type": "code",
   "execution_count": 7,
   "metadata": {},
   "outputs": [],
   "source": [
    "# Saving the model\n",
    "torch.save(model.state_dict(), \"mnist_autoencoder.pt\")"
   ]
  },
  {
   "cell_type": "markdown",
   "metadata": {},
   "source": [
    "#### Checking the results"
   ]
  },
  {
   "cell_type": "code",
   "execution_count": 8,
   "metadata": {},
   "outputs": [],
   "source": [
    "def show_results(source_data, reconstructed_data, index):\n",
    "    fig, axes = plt.subplots(nrows=1, ncols=2, figsize=(10,4))\n",
    "    axes[0].imshow(np.squeeze(source_data[index]), cmap='gray')\n",
    "    axes[0].set_title('Source image')\n",
    "    axes[1].imshow(np.squeeze(reconstructed_data[index]), cmap='gray')\n",
    "    axes[1].set_title('Reconstructed image')"
   ]
  },
  {
   "cell_type": "code",
   "execution_count": 13,
   "metadata": {},
   "outputs": [
    {
     "data": {
      "image/png": "[encoded data removed]",
      "text/plain": [
       "<Figure size 720x288 with 2 Axes>"
      ]
     },
     "metadata": {},
     "output_type": "display_data"
    }
   ],
   "source": [
    "dataiter = iter(test_loader) # get one batch of data\n",
    "source_data, _ = dataiter.next()\n",
    "\n",
    "reconstructed_data = model(source_data.view(source_data.size(0), -1))\n",
    "reconstructed_data = reconstructed_data.view(batch_size, 1, 28, 28)\n",
    "reconstructed_data = reconstructed_data.detach().numpy()\n",
    "\n",
    "source_data = source_data.numpy()\n",
    "\n",
    "show_results(source_data, reconstructed_data, 2)"
   ]
  },
  {
   "cell_type": "code",
   "execution_count": null,
   "metadata": {},
   "outputs": [],
   "source": []
  }
 ],
 "metadata": {
  "kernelspec": {
   "display_name": "Python3 with xgboost",
   "language": "python",
   "name": "py3_with_xgboost"
  },
  "language_info": {
   "codemirror_mode": {
    "name": "ipython",
    "version": 3
   },
   "file_extension": ".py",
   "mimetype": "text/x-python",
   "name": "python",
   "nbconvert_exporter": "python",
   "pygments_lexer": "ipython3",
   "version": "3.6.2"
  }
 },
 "nbformat": 4,
 "nbformat_minor": 2
}
