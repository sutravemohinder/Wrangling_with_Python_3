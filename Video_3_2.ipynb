{
 "cells": [
  {
   "cell_type": "markdown",
   "metadata": {},
   "source": [
    "# Convolutional Neural Networks"
   ]
  },
  {
   "cell_type": "code",
   "execution_count": 51,
   "metadata": {},
   "outputs": [],
   "source": [
    "from __future__ import print_function\n",
    "import argparse\n",
    "import torch\n",
    "import torch.nn as nn\n",
    "import torch.nn.functional as F\n",
    "import torch.optim as optim\n",
    "from torchvision import datasets, transforms\n",
    "\n",
    "import numpy as np\n",
    "import matplotlib.pyplot as plt\n",
    "%matplotlib inline"
   ]
  },
  {
   "cell_type": "code",
   "execution_count": 2,
   "metadata": {},
   "outputs": [],
   "source": [
    "class CNN(nn.Module):\n",
    "    def __init__(self):\n",
    "        super(CNN, self).__init__() \n",
    "        self.conv1 = nn.Conv2d(1, 20, 5, 1)\n",
    "        self.conv2 = nn.Conv2d(20, 50, 5, 1)\n",
    "        self.fc1 = nn.Linear(4*4*50, 500)\n",
    "        self.fc2 = nn.Linear(500, 10)\n",
    "\n",
    "    def forward(self, x):\n",
    "        x = F.relu(self.conv1(x))\n",
    "        x = F.max_pool2d(x, 2, 2)\n",
    "        x = F.relu(self.conv2(x))\n",
    "        x = F.max_pool2d(x, 2, 2)\n",
    "        x = x.view(-1, 4*4*50)\n",
    "        x = F.relu(self.fc1(x))\n",
    "        x = self.fc2(x)\n",
    "        return F.log_softmax(x, dim=1)"
   ]
  },
  {
   "cell_type": "code",
   "execution_count": 22,
   "metadata": {},
   "outputs": [],
   "source": [
    "def train(model, device, train_loader, optimizer, epoch):\n",
    "    # sets the module in training mode\n",
    "    model.train()\n",
    "    \n",
    "    for batch_idx, (data, target) in enumerate(train_loader):\n",
    "        data = data.to(device)\n",
    "        target =  target.to(device)\n",
    "        optimizer.zero_grad()\n",
    "        \n",
    "        output =  model(data)\n",
    "        \n",
    "        loss = F.nll_loss(output, target)\n",
    "        loss.backward()\n",
    "        \n",
    "        optimizer.step()\n",
    "        \n",
    "        # output\n",
    "        if batch_idx % 100 == 0:\n",
    "            print('Train Epoch: {} [{}/{} ({:.0f}%)]\\tLoss: {:.6f}'.format(\n",
    "                epoch, batch_idx * len(data), len(train_loader.dataset),\n",
    "                100. * batch_idx / len(train_loader), loss.item()))\n",
    "\n"
   ]
  },
  {
   "cell_type": "code",
   "execution_count": 23,
   "metadata": {},
   "outputs": [],
   "source": [
    "def test(model, device, test_loader):\n",
    "    # sets the model in evaluation mode\n",
    "    model.eval()\n",
    "    test_loss = 0\n",
    "    correct = 0\n",
    "    with torch.no_grad():\n",
    "        for data, target in test_loader:\n",
    "            data = data.to(device)\n",
    "            target =  target.to(device)\n",
    "            output = model(data)\n",
    "\n",
    "            test_loss += F.nll_loss(output, target, reduction='sum').item()\n",
    "            pred = output.max(1, keepdim=True)[1]\n",
    "            correct += pred.eq(target.view_as(pred)).sum().item()\n",
    "\n",
    "    test_loss /= len(test_loader.dataset)\n",
    "    \n",
    "    print('\\nTest set: Average loss: {:.4f}, Accuracy: {}/{} ({:.0f}%)\\n'.format(\n",
    "        test_loss, correct, len(test_loader.dataset),\n",
    "        100. * correct / len(test_loader.dataset)))"
   ]
  },
  {
   "cell_type": "code",
   "execution_count": 52,
   "metadata": {},
   "outputs": [],
   "source": [
    "torch.manual_seed(42)\n",
    "\n",
    "#sets the device\n",
    "device = torch.device(\"cuda\" if torch.cuda.is_available() else \"cpu\")"
   ]
  },
  {
   "cell_type": "code",
   "execution_count": 53,
   "metadata": {},
   "outputs": [
    {
     "data": {
      "text/plain": [
       "device(type='cpu')"
      ]
     },
     "execution_count": 53,
     "metadata": {},
     "output_type": "execute_result"
    }
   ],
   "source": [
    "device"
   ]
  },
  {
   "cell_type": "code",
   "execution_count": 54,
   "metadata": {},
   "outputs": [],
   "source": [
    "# Data loading\n",
    "batch_size = 64\n",
    "test_batch_size = 1000\n",
    "\n",
    "train_loader = torch.utils.data.DataLoader(\n",
    "    datasets.MNIST('../data', train=True, download=True,\n",
    "                   transform=transforms.Compose([\n",
    "                       transforms.ToTensor(),\n",
    "                       transforms.Normalize((0.1307,), (0.3081,))\n",
    "                   ])),\n",
    "    batch_size=batch_size,\n",
    "    shuffle=True\n",
    ")\n",
    "\n",
    "test_loader = torch.utils.data.DataLoader(\n",
    "    datasets.MNIST('../data', train=False, transform=transforms.Compose([\n",
    "                       transforms.ToTensor(),\n",
    "                       transforms.Normalize((0.1307,), (0.3081,))\n",
    "                   ])),\n",
    "    batch_size=test_batch_size,\n",
    "    shuffle=True\n",
    ")\n"
   ]
  },
  {
   "cell_type": "code",
   "execution_count": 55,
   "metadata": {},
   "outputs": [
    {
     "data": {
      "text/plain": [
       "<matplotlib.image.AxesImage at 0x11ae8d8d0>"
      ]
     },
     "execution_count": 55,
     "metadata": {},
     "output_type": "execute_result"
    },
    {
     "data": {
      "image/png": "[encoded data removed]",
      "text/plain": [
       "<Figure size 432x288 with 1 Axes>"
      ]
     },
     "metadata": {},
     "output_type": "display_data"
    }
   ],
   "source": [
    "dataiter = iter(train_loader)\n",
    "images, labels = dataiter.next()\n",
    "images = images.numpy()\n",
    "\n",
    "plt.imshow(np.squeeze(images[0]))"
   ]
  },
  {
   "cell_type": "code",
   "execution_count": 28,
   "metadata": {},
   "outputs": [
    {
     "name": "stdout",
     "output_type": "stream",
     "text": [
      "Train Epoch: 1 [0/60000 (0%)]\tLoss: 2.309220\n",
      "Train Epoch: 1 [6400/60000 (11%)]\tLoss: 0.545806\n",
      "Train Epoch: 1 [12800/60000 (21%)]\tLoss: 0.417805\n",
      "Train Epoch: 1 [19200/60000 (32%)]\tLoss: 0.351393\n",
      "Train Epoch: 1 [25600/60000 (43%)]\tLoss: 0.307475\n",
      "Train Epoch: 1 [32000/60000 (53%)]\tLoss: 0.132790\n",
      "Train Epoch: 1 [38400/60000 (64%)]\tLoss: 0.190053\n",
      "Train Epoch: 1 [44800/60000 (75%)]\tLoss: 0.069494\n",
      "Train Epoch: 1 [51200/60000 (85%)]\tLoss: 0.257545\n",
      "Train Epoch: 1 [57600/60000 (96%)]\tLoss: 0.039865\n",
      "\n",
      "Test set: Average loss: 0.1038, Accuracy: 9673/10000 (97%)\n",
      "\n",
      "Train Epoch: 2 [0/60000 (0%)]\tLoss: 0.235776\n",
      "Train Epoch: 2 [6400/60000 (11%)]\tLoss: 0.048822\n",
      "Train Epoch: 2 [12800/60000 (21%)]\tLoss: 0.077159\n",
      "Train Epoch: 2 [19200/60000 (32%)]\tLoss: 0.058941\n",
      "Train Epoch: 2 [25600/60000 (43%)]\tLoss: 0.162508\n",
      "Train Epoch: 2 [32000/60000 (53%)]\tLoss: 0.042344\n",
      "Train Epoch: 2 [38400/60000 (64%)]\tLoss: 0.037134\n",
      "Train Epoch: 2 [44800/60000 (75%)]\tLoss: 0.008007\n",
      "Train Epoch: 2 [51200/60000 (85%)]\tLoss: 0.124593\n",
      "Train Epoch: 2 [57600/60000 (96%)]\tLoss: 0.033420\n",
      "\n",
      "Test set: Average loss: 0.0609, Accuracy: 9807/10000 (98%)\n",
      "\n",
      "Train Epoch: 3 [0/60000 (0%)]\tLoss: 0.081767\n",
      "Train Epoch: 3 [6400/60000 (11%)]\tLoss: 0.086326\n",
      "Train Epoch: 3 [12800/60000 (21%)]\tLoss: 0.099462\n",
      "Train Epoch: 3 [19200/60000 (32%)]\tLoss: 0.092240\n",
      "Train Epoch: 3 [25600/60000 (43%)]\tLoss: 0.160310\n",
      "Train Epoch: 3 [32000/60000 (53%)]\tLoss: 0.032650\n",
      "Train Epoch: 3 [38400/60000 (64%)]\tLoss: 0.011086\n",
      "Train Epoch: 3 [44800/60000 (75%)]\tLoss: 0.033878\n",
      "Train Epoch: 3 [51200/60000 (85%)]\tLoss: 0.011850\n",
      "Train Epoch: 3 [57600/60000 (96%)]\tLoss: 0.071859\n",
      "\n",
      "Test set: Average loss: 0.0488, Accuracy: 9846/10000 (98%)\n",
      "\n",
      "Train Epoch: 4 [0/60000 (0%)]\tLoss: 0.019687\n",
      "Train Epoch: 4 [6400/60000 (11%)]\tLoss: 0.040742\n",
      "Train Epoch: 4 [12800/60000 (21%)]\tLoss: 0.063340\n",
      "Train Epoch: 4 [19200/60000 (32%)]\tLoss: 0.007915\n",
      "Train Epoch: 4 [25600/60000 (43%)]\tLoss: 0.012349\n",
      "Train Epoch: 4 [32000/60000 (53%)]\tLoss: 0.021700\n",
      "Train Epoch: 4 [38400/60000 (64%)]\tLoss: 0.048191\n",
      "Train Epoch: 4 [44800/60000 (75%)]\tLoss: 0.013785\n",
      "Train Epoch: 4 [51200/60000 (85%)]\tLoss: 0.016050\n",
      "Train Epoch: 4 [57600/60000 (96%)]\tLoss: 0.067244\n",
      "\n",
      "Test set: Average loss: 0.0361, Accuracy: 9885/10000 (99%)\n",
      "\n",
      "Train Epoch: 5 [0/60000 (0%)]\tLoss: 0.036712\n",
      "Train Epoch: 5 [6400/60000 (11%)]\tLoss: 0.068366\n",
      "Train Epoch: 5 [12800/60000 (21%)]\tLoss: 0.009505\n",
      "Train Epoch: 5 [19200/60000 (32%)]\tLoss: 0.030879\n",
      "Train Epoch: 5 [25600/60000 (43%)]\tLoss: 0.026859\n",
      "Train Epoch: 5 [32000/60000 (53%)]\tLoss: 0.065921\n",
      "Train Epoch: 5 [38400/60000 (64%)]\tLoss: 0.013391\n",
      "Train Epoch: 5 [44800/60000 (75%)]\tLoss: 0.011867\n",
      "Train Epoch: 5 [51200/60000 (85%)]\tLoss: 0.067441\n",
      "Train Epoch: 5 [57600/60000 (96%)]\tLoss: 0.055183\n",
      "\n",
      "Test set: Average loss: 0.0348, Accuracy: 9882/10000 (99%)\n",
      "\n",
      "Train Epoch: 6 [0/60000 (0%)]\tLoss: 0.016401\n",
      "Train Epoch: 6 [6400/60000 (11%)]\tLoss: 0.006540\n",
      "Train Epoch: 6 [12800/60000 (21%)]\tLoss: 0.020394\n",
      "Train Epoch: 6 [19200/60000 (32%)]\tLoss: 0.034701\n",
      "Train Epoch: 6 [25600/60000 (43%)]\tLoss: 0.038171\n",
      "Train Epoch: 6 [32000/60000 (53%)]\tLoss: 0.017742\n",
      "Train Epoch: 6 [38400/60000 (64%)]\tLoss: 0.020060\n",
      "Train Epoch: 6 [44800/60000 (75%)]\tLoss: 0.035180\n",
      "Train Epoch: 6 [51200/60000 (85%)]\tLoss: 0.014471\n",
      "Train Epoch: 6 [57600/60000 (96%)]\tLoss: 0.045816\n",
      "\n",
      "Test set: Average loss: 0.0374, Accuracy: 9880/10000 (99%)\n",
      "\n",
      "Train Epoch: 7 [0/60000 (0%)]\tLoss: 0.012450\n",
      "Train Epoch: 7 [6400/60000 (11%)]\tLoss: 0.008908\n",
      "Train Epoch: 7 [12800/60000 (21%)]\tLoss: 0.022789\n",
      "Train Epoch: 7 [19200/60000 (32%)]\tLoss: 0.020406\n",
      "Train Epoch: 7 [25600/60000 (43%)]\tLoss: 0.039547\n",
      "Train Epoch: 7 [32000/60000 (53%)]\tLoss: 0.012474\n",
      "Train Epoch: 7 [38400/60000 (64%)]\tLoss: 0.002590\n",
      "Train Epoch: 7 [44800/60000 (75%)]\tLoss: 0.007348\n",
      "Train Epoch: 7 [51200/60000 (85%)]\tLoss: 0.029763\n",
      "Train Epoch: 7 [57600/60000 (96%)]\tLoss: 0.085072\n",
      "\n",
      "Test set: Average loss: 0.0302, Accuracy: 9899/10000 (99%)\n",
      "\n",
      "Train Epoch: 8 [0/60000 (0%)]\tLoss: 0.005343\n",
      "Train Epoch: 8 [6400/60000 (11%)]\tLoss: 0.011341\n",
      "Train Epoch: 8 [12800/60000 (21%)]\tLoss: 0.085242\n",
      "Train Epoch: 8 [19200/60000 (32%)]\tLoss: 0.013552\n",
      "Train Epoch: 8 [25600/60000 (43%)]\tLoss: 0.019189\n",
      "Train Epoch: 8 [32000/60000 (53%)]\tLoss: 0.014732\n",
      "Train Epoch: 8 [38400/60000 (64%)]\tLoss: 0.010895\n",
      "Train Epoch: 8 [44800/60000 (75%)]\tLoss: 0.054675\n",
      "Train Epoch: 8 [51200/60000 (85%)]\tLoss: 0.003532\n",
      "Train Epoch: 8 [57600/60000 (96%)]\tLoss: 0.023222\n",
      "\n",
      "Test set: Average loss: 0.0316, Accuracy: 9889/10000 (99%)\n",
      "\n",
      "Train Epoch: 9 [0/60000 (0%)]\tLoss: 0.055349\n",
      "Train Epoch: 9 [6400/60000 (11%)]\tLoss: 0.022348\n",
      "Train Epoch: 9 [12800/60000 (21%)]\tLoss: 0.024858\n",
      "Train Epoch: 9 [19200/60000 (32%)]\tLoss: 0.013907\n",
      "Train Epoch: 9 [25600/60000 (43%)]\tLoss: 0.027549\n",
      "Train Epoch: 9 [32000/60000 (53%)]\tLoss: 0.006812\n",
      "Train Epoch: 9 [38400/60000 (64%)]\tLoss: 0.016674\n",
      "Train Epoch: 9 [44800/60000 (75%)]\tLoss: 0.022981\n",
      "Train Epoch: 9 [51200/60000 (85%)]\tLoss: 0.005466\n",
      "Train Epoch: 9 [57600/60000 (96%)]\tLoss: 0.005168\n",
      "\n",
      "Test set: Average loss: 0.0278, Accuracy: 9907/10000 (99%)\n",
      "\n",
      "Train Epoch: 10 [0/60000 (0%)]\tLoss: 0.009564\n",
      "Train Epoch: 10 [6400/60000 (11%)]\tLoss: 0.026389\n",
      "Train Epoch: 10 [12800/60000 (21%)]\tLoss: 0.008763\n",
      "Train Epoch: 10 [19200/60000 (32%)]\tLoss: 0.049145\n",
      "Train Epoch: 10 [25600/60000 (43%)]\tLoss: 0.002180\n",
      "Train Epoch: 10 [32000/60000 (53%)]\tLoss: 0.001903\n",
      "Train Epoch: 10 [38400/60000 (64%)]\tLoss: 0.044435\n",
      "Train Epoch: 10 [44800/60000 (75%)]\tLoss: 0.004339\n",
      "Train Epoch: 10 [51200/60000 (85%)]\tLoss: 0.037296\n",
      "Train Epoch: 10 [57600/60000 (96%)]\tLoss: 0.008863\n",
      "\n",
      "Test set: Average loss: 0.0267, Accuracy: 9909/10000 (99%)\n",
      "\n"
     ]
    }
   ],
   "source": [
    "# Training the model\n",
    "epochs = 10\n",
    "lr = 0.01\n",
    "momentum = 0.5\n",
    "\n",
    "model = CNN().to(device)\n",
    "optimizer = optim.SGD(model.parameters(), lr=lr, momentum=momentum)\n",
    "\n",
    "for epoch in range(1, epochs + 1):\n",
    "    train(model, device, train_loader, optimizer, epoch)\n",
    "    test(model, device, test_loader)"
   ]
  },
  {
   "cell_type": "code",
   "execution_count": 29,
   "metadata": {},
   "outputs": [],
   "source": [
    "# Saving the model\n",
    "torch.save(model.state_dict(), \"mnist.pt\")"
   ]
  },
  {
   "cell_type": "code",
   "execution_count": null,
   "metadata": {},
   "outputs": [],
   "source": []
  }
 ],
 "metadata": {
  "kernelspec": {
   "display_name": "Python3 with xgboost",
   "language": "python",
   "name": "py3_with_xgboost"
  },
  "language_info": {
   "codemirror_mode": {
    "name": "ipython",
    "version": 3
   },
   "file_extension": ".py",
   "mimetype": "text/x-python",
   "name": "python",
   "nbconvert_exporter": "python",
   "pygments_lexer": "ipython3",
   "version": "3.6.2"
  }
 },
 "nbformat": 4,
 "nbformat_minor": 2
}
