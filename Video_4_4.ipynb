{
 "cells": [
  {
   "cell_type": "markdown",
   "metadata": {},
   "source": [
    "# Custom C++ and CUDA Extensions: Setuptools "
   ]
  },
  {
   "cell_type": "code",
   "execution_count": null,
   "metadata": {},
   "outputs": [],
   "source": [
    "from setuptools import setup\n",
    "from torch.utils.cpp_extension import CppExtension, BuildExtension\n",
    "\n",
    "setup(name='lltm',\n",
    "      ext_modules=[CppExtension('lltm', ['lltm.cpp'])],\n",
    "      cmdclass={'build_ext': BuildExtension})"
   ]
  },
  {
   "cell_type": "code",
   "execution_count": null,
   "metadata": {},
   "outputs": [],
   "source": [
    "setuptools.Extension(\n",
    "   name='lltm',\n",
    "   sources=['lltm.cpp'],\n",
    "   include_dirs=torch.utils.cpp_extension.include_paths(),\n",
    "   language='c++')"
   ]
  }
 ],
 "metadata": {
  "kernelspec": {
   "display_name": "Python 3 with tf",
   "language": "python",
   "name": "tf_py"
  },
  "language_info": {
   "codemirror_mode": {
    "name": "ipython",
    "version": 3
   },
   "file_extension": ".py",
   "mimetype": "text/x-python",
   "name": "python",
   "nbconvert_exporter": "python",
   "pygments_lexer": "ipython3",
   "version": "3.6.4"
  }
 },
 "nbformat": 4,
 "nbformat_minor": 2
}
